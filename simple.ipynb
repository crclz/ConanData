{
 "metadata": {
  "language_info": {
   "codemirror_mode": {
    "name": "ipython",
    "version": 3
   },
   "file_extension": ".py",
   "mimetype": "text/x-python",
   "name": "python",
   "nbconvert_exporter": "python",
   "pygments_lexer": "ipython3",
   "version": "3.8.3-final"
  },
  "orig_nbformat": 2,
  "kernelspec": {
   "name": "python3",
   "display_name": "Python 3",
   "language": "python"
  }
 },
 "nbformat": 4,
 "nbformat_minor": 2,
 "cells": [
  {
   "cell_type": "code",
   "execution_count": null,
   "metadata": {},
   "outputs": [],
   "source": [
    "import requests\n",
    "\n",
    "url = 'https://api.bilibili.com/pgc/view/web/season?season_id=33378'\n",
    "res = requests.get(url, headers={'User-Agent':'Chrome/87.0.4280.88'})\n",
    "\n",
    "with open('tmp_playlist.json', 'w', encoding='utf8') as f:\n",
    "    f.write(res.text)"
   ]
  },
  {
   "cell_type": "code",
   "execution_count": null,
   "metadata": {},
   "outputs": [],
   "source": [
    "import json\n",
    "\n",
    "with open('tmp_playlist.json', 'r', encoding='utf8') as f:\n",
    "    data = json.load(f)\n",
    "\n",
    "assert data['code'] == 0\n",
    "assert data['message'] == 'success'\n",
    "\n",
    "videos = []\n",
    "\n",
    "for ep in data['result']['episodes']:\n",
    "    x = {}\n",
    "    videos.append(x)\n",
    "\n",
    "    x['playId'] = 'ep' + str(ep['id'])\n",
    "    x['tvid'] = int(ep['title'])\n",
    "    x['title'] = ep['long_title']\n",
    "    x['pub'] = ep['pub_time']\n",
    "\n",
    "len(videos)\n",
    "videos[3]\n",
    "\n",
    "with open('tvlist.json', 'w', encoding='utf8') as f:\n",
    "    json.dump(videos, f, ensure_ascii=False, indent=4)"
   ]
  },
  {
   "cell_type": "code",
   "execution_count": null,
   "metadata": {
    "tags": []
   },
   "outputs": [],
   "source": [
    "# zh.wikipedia.org/wiki/名偵探柯南動畫集數列表\n",
    "\n",
    "from bs4 import BeautifulSoup\n",
    "from typing import List\n",
    "from itertools import islice\n",
    "import re\n",
    "\n",
    "s = BeautifulSoup(open('wiki-zh.html', 'r', encoding='utf8'))\n",
    "\n",
    "def extract(table, cols:List[int], skip_rows=2) -> List:\n",
    "    info_list = []\n",
    "    for tr in islice(table.select('tr'), skip_rows, None):\n",
    "        tds = tr.select('td')\n",
    "        info = []\n",
    "        for i in cols:\n",
    "            info.append(tds[i].text)\n",
    "        info_list.append(info)\n",
    "    return info_list\n",
    "\n",
    "table_count = 13\n",
    "\n",
    "col_list = [3] * table_count\n",
    "col_list[0] = 4\n",
    "col_list = [[0, p] for p in col_list]\n",
    "\n",
    "tables = s.select('.wikitable')\n",
    "len(tables)\n",
    "\n",
    "records = []\n",
    "for i in range(table_count):\n",
    "    x = extract(tables[i], col_list[i])\n",
    "    records += x\n",
    "\n",
    "# process records, remove mark like [2]\n",
    "for r in records:\n",
    "    r[1] = re.sub(r'\\[\\w+?\\]', '', r[1])\n",
    "\n",
    "with open('wiki-result-zh.txt', 'w', encoding='utf8') as f:\n",
    "    for r in records:\n",
    "        f.write(f'{r[0]} {r[1]}')\n",
    "        f.write('\\n')"
   ]
  },
  {
   "cell_type": "code",
   "execution_count": null,
   "metadata": {},
   "outputs": [],
   "source": []
  }
 ]
}