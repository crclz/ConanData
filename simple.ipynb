{
 "metadata": {
  "language_info": {
   "codemirror_mode": {
    "name": "ipython",
    "version": 3
   },
   "file_extension": ".py",
   "mimetype": "text/x-python",
   "name": "python",
   "nbconvert_exporter": "python",
   "pygments_lexer": "ipython3",
   "version": "3.8.3-final"
  },
  "orig_nbformat": 2,
  "kernelspec": {
   "name": "python3",
   "display_name": "Python 3",
   "language": "python"
  }
 },
 "nbformat": 4,
 "nbformat_minor": 2,
 "cells": [
  {
   "cell_type": "code",
   "execution_count": null,
   "metadata": {},
   "outputs": [],
   "source": [
    "import requests\n",
    "\n",
    "url = 'https://api.bilibili.com/pgc/view/web/season?season_id=33378'\n",
    "res = requests.get(url, headers={'User-Agent':'Chrome/87.0.4280.88'})\n",
    "\n",
    "with open('tmp_playlist.json', 'w', encoding='utf8') as f:\n",
    "    f.write(res.text)"
   ]
  },
  {
   "cell_type": "code",
   "execution_count": null,
   "metadata": {},
   "outputs": [],
   "source": [
    "import json\n",
    "\n",
    "with open('tmp_playlist.json', 'r', encoding='utf8') as f:\n",
    "    data = json.load(f)\n",
    "\n",
    "assert data['code'] == 0\n",
    "assert data['message'] == 'success'\n",
    "\n",
    "videos = []\n",
    "\n",
    "for ep in data['result']['episodes']:\n",
    "    x = {}\n",
    "    videos.append(x)\n",
    "\n",
    "    x['playId'] = 'ep' + str(ep['id'])\n",
    "    x['tvid'] = int(ep['title'])\n",
    "    x['title'] = ep['long_title']\n",
    "    x['pub'] = ep['pub_time']\n",
    "\n",
    "len(videos)\n",
    "videos[3]\n",
    "\n",
    "with open('tvlist.json', 'w', encoding='utf8') as f:\n",
    "    json.dump(videos, f, ensure_ascii=False, indent=4)"
   ]
  },
  {
   "cell_type": "code",
   "execution_count": null,
   "metadata": {},
   "outputs": [],
   "source": []
  }
 ]
}