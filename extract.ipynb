{
 "metadata": {
  "language_info": {
   "codemirror_mode": {
    "name": "ipython",
    "version": 3
   },
   "file_extension": ".py",
   "mimetype": "text/x-python",
   "name": "python",
   "nbconvert_exporter": "python",
   "pygments_lexer": "ipython3",
   "version": "3.8.3-final"
  },
  "orig_nbformat": 2,
  "kernelspec": {
   "name": "python3",
   "display_name": "Python 3",
   "language": "python"
  }
 },
 "nbformat": 4,
 "nbformat_minor": 2,
 "cells": [
  {
   "cell_type": "code",
   "execution_count": null,
   "metadata": {},
   "outputs": [],
   "source": [
    "# get play list from bilibili\n",
    "\n",
    "import requests\n",
    "\n",
    "conan_url = 'https://www.bilibili.com/bangumi/play/ep322614'\n",
    "res = requests.get(conan_url)\n",
    "\n",
    "with open('playlist.html', 'w', encoding='utf8') as f:\n",
    "    f.write(res.text)"
   ]
  },
  {
   "cell_type": "code",
   "execution_count": null,
   "metadata": {},
   "outputs": [],
   "source": [
    "from bs4 import BeautifulSoup\n",
    "\n",
    "with open('playlist.html', 'r', encoding='utf8') as f:\n",
    "    html_str = f.read()\n",
    "\n",
    "h = BeautifulSoup(html_str, 'lxml')"
   ]
  },
  {
   "cell_type": "code",
   "execution_count": null,
   "metadata": {},
   "outputs": [],
   "source": [
    "scripts = h.select('script')"
   ]
  },
  {
   "cell_type": "code",
   "execution_count": null,
   "metadata": {
    "tags": []
   },
   "outputs": [],
   "source": [
    "key_scripts = [p for p in scripts if p.decode_contents().startswith('window.__INITIAL_STATE__')]\n",
    "assert len(key_scripts) == 1\n",
    "keyscript = key_scripts[0]"
   ]
  },
  {
   "cell_type": "code",
   "execution_count": null,
   "metadata": {},
   "outputs": [],
   "source": [
    "with open(\"keyscript.js\", 'w', encoding='utf8') as f:\n",
    "    js_str = keyscript.decode_contents()\n",
    "    initial_state = js_str[js_str.index('{'):]\n",
    "    f.write(initial_state)"
   ]
  },
  {
   "cell_type": "code",
   "execution_count": null,
   "metadata": {},
   "outputs": [],
   "source": []
  }
 ]
}